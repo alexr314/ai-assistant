{
 "cells": [
  {
   "cell_type": "code",
   "execution_count": 1,
   "metadata": {},
   "outputs": [],
   "source": [
    "import openai\n",
    "import numpy as np\n",
    "\n",
    "openai.api_key = str(np.load('open_ai_key.npy'))"
   ]
  },
  {
   "cell_type": "code",
   "execution_count": 2,
   "metadata": {},
   "outputs": [],
   "source": [
    "from IPython.display import HTML, display, clear_output\n",
    "\n",
    "def display_imessage(message, sender=\"user\"):\n",
    "    \"\"\"Display a message in a styled box resembling iMessage. Sender can be 'user' or 'system'.\"\"\"\n",
    "    \n",
    "    message = message.replace(\"\\n\", \"<br>\")\n",
    "    \n",
    "    if sender == \"user\":\n",
    "        # User message styling: Blue bubble, right-aligned\n",
    "        bg_color = \"#007AFF\"  # iMessage blue\n",
    "        text_color = \"white\"\n",
    "        align = \"right\"\n",
    "        border_radius = \"20px 20px 0px 20px\"\n",
    "    elif sender == \"system\":\n",
    "        # System message styling: Gray bubble, center-aligned\n",
    "        message = \"SYSTEM: \" + message\n",
    "        bg_color = \"#E5E5EA\"  # Light gray\n",
    "        text_color = \"black\"\n",
    "        align = \"center\"\n",
    "        border_radius = \"20px 20px 20px 20px\"\n",
    "    elif sender == \"assistant\":\n",
    "        # System message styling: Gray bubble, left-aligned\n",
    "        bg_color = \"#303030\" # #  \"#E5E5EA\"  # Light gray\n",
    "        text_color = \"white\"\n",
    "        align = \"left\"\n",
    "        border_radius = \"20px 20px 20px 0px\"\n",
    "    \n",
    "    html = f\"\"\"\n",
    "    <div style=\"display: flex; justify-content: {align}; margin: 5px;\">\n",
    "        <div style=\"max-width: 60%; min-width: 10%; background-color: {bg_color}; color: {text_color}; padding: 10px; \n",
    "                    font-family: Arial, sans-serif; font-size: 16px; border-radius: {border_radius}; \n",
    "                    word-wrap: break-word; margin-bottom: 2px;\">\n",
    "            {message}\n",
    "        </div>\n",
    "    </div>\n",
    "    \"\"\"\n",
    "    display(HTML(html))\n",
    "\n",
    "# # Example usage\n",
    "# display_imessage(\"Sure, I can help with that. What do you need?\", sender=\"system\")\n",
    "# display_imessage(\"Could you tell me more about the Pythagorean theorem?\", sender=\"user\")\n",
    "\n",
    "\n",
    "def display_messages(messages):\n",
    "    \"\"\"\n",
    "    Display a series of messages in a styled format resembling iMessage.\n",
    "    Each message in the list is a dictionary with 'role' and 'content' keys.\n",
    "    \n",
    "    :param messages: List of message dictionaries.\n",
    "    \"\"\"\n",
    "    for message in messages:\n",
    "#         sender = \"user\" if message['role'] == \"user\" else \"system\"\n",
    "        display_imessage(message['content'], sender=message['role'])"
   ]
  },
  {
   "cell_type": "code",
   "execution_count": 3,
   "metadata": {},
   "outputs": [],
   "source": [
    "def make_message(role, content):\n",
    "    return {'role' : role, 'content' : content}\n",
    "\n",
    "class Session:\n",
    "    def __init__(self, model='gpt-3.5-turbo-0125', system_message='You are a helpful assistant'):\n",
    "        self.model = model\n",
    "        self.messages = [make_message('system', system_message)]\n",
    "        \n",
    "        self.fail_counter = 0\n",
    "        self.max_fails = 3\n",
    "        self.verbose = True\n",
    "        \n",
    "    def add_system_message(self, content):\n",
    "        self.messages.append(make_message('system', content))\n",
    "\n",
    "    def add_user_message(self, content):\n",
    "        self.messages.append(make_message('user', content))\n",
    "\n",
    "    def generate_response(self):\n",
    "        \n",
    "        if self.fail_counter < self.max_fails:\n",
    "            \n",
    "            try:\n",
    "                response = self._query_api()\n",
    "                print()\n",
    "                self.messages.append(dict(response['choices'][0].message))\n",
    "            except:\n",
    "                self.fail_counter += 1\n",
    "                # try again\n",
    "                if self.verbose: \n",
    "                    print(f'Query failed, retry #{self.fail_counter}/{self.max_fails}')\n",
    "                self.generate_response()\n",
    "            \n",
    "    def _query_api(self):\n",
    "        # Broken off into its own function, will likely need maintance when we update openai\n",
    "        return openai.ChatCompletion.create(model=self.model, messages=self.messages)\n",
    "    \n",
    "    def display_messages(self):\n",
    "        display_messages(self.messages)\n",
    "        \n",
    "    def print_last(self):\n",
    "        print(self.messages[-1]['content'])\n",
    "\n",
    "\n",
    "def start_chat(system_prompt='You are a helpful assistant', model='gpt-3.5-turbo-0125'):\n",
    "    \n",
    "    # instantiate session\n",
    "    chat = Session(system_message=system_prompt, model=model)\n",
    "    \n",
    "    while True:\n",
    "        # get input\n",
    "        user_message = input()\n",
    "        if user_message.lower()=='end': break\n",
    "            \n",
    "        # redraw with user message\n",
    "        clear_output(wait=True)\n",
    "        chat.add_user_message(user_message)\n",
    "        chat.display_messages()\n",
    "        \n",
    "        # redraw upon receipt of assistant message\n",
    "        chat.generate_response()\n",
    "        clear_output(wait=True)\n",
    "        chat.display_messages()\n",
    "\n",
    "    return chat"
   ]
  },
  {
   "cell_type": "code",
   "execution_count": 52,
   "metadata": {},
   "outputs": [
    {
     "data": {
      "text/html": [
       "\n",
       "    <div style=\"display: flex; justify-content: center; margin: 5px;\">\n",
       "        <div style=\"max-width: 60%; min-width: 10%; background-color: #E5E5EA; color: black; padding: 10px; \n",
       "                    font-family: Arial, sans-serif; font-size: 16px; border-radius: 20px 20px 20px 20px; \n",
       "                    word-wrap: break-word; margin-bottom: 2px;\">\n",
       "            SYSTEM: You are a helpful assistant\n",
       "        </div>\n",
       "    </div>\n",
       "    "
      ],
      "text/plain": [
       "<IPython.core.display.HTML object>"
      ]
     },
     "metadata": {},
     "output_type": "display_data"
    },
    {
     "data": {
      "text/html": [
       "\n",
       "    <div style=\"display: flex; justify-content: right; margin: 5px;\">\n",
       "        <div style=\"max-width: 60%; min-width: 10%; background-color: #007AFF; color: white; padding: 10px; \n",
       "                    font-family: Arial, sans-serif; font-size: 16px; border-radius: 20px 20px 0px 20px; \n",
       "                    word-wrap: break-word; margin-bottom: 2px;\">\n",
       "            Hello\n",
       "        </div>\n",
       "    </div>\n",
       "    "
      ],
      "text/plain": [
       "<IPython.core.display.HTML object>"
      ]
     },
     "metadata": {},
     "output_type": "display_data"
    },
    {
     "data": {
      "text/html": [
       "\n",
       "    <div style=\"display: flex; justify-content: left; margin: 5px;\">\n",
       "        <div style=\"max-width: 60%; min-width: 10%; background-color: #303030; color: white; padding: 10px; \n",
       "                    font-family: Arial, sans-serif; font-size: 16px; border-radius: 20px 20px 20px 0px; \n",
       "                    word-wrap: break-word; margin-bottom: 2px;\">\n",
       "            Hello! How can I assist you today?\n",
       "        </div>\n",
       "    </div>\n",
       "    "
      ],
      "text/plain": [
       "<IPython.core.display.HTML object>"
      ]
     },
     "metadata": {},
     "output_type": "display_data"
    },
    {
     "data": {
      "text/html": [
       "\n",
       "    <div style=\"display: flex; justify-content: right; margin: 5px;\">\n",
       "        <div style=\"max-width: 60%; min-width: 10%; background-color: #007AFF; color: white; padding: 10px; \n",
       "                    font-family: Arial, sans-serif; font-size: 16px; border-radius: 20px 20px 0px 20px; \n",
       "                    word-wrap: break-word; margin-bottom: 2px;\">\n",
       "            How does inheritance work with classes in python?\n",
       "        </div>\n",
       "    </div>\n",
       "    "
      ],
      "text/plain": [
       "<IPython.core.display.HTML object>"
      ]
     },
     "metadata": {},
     "output_type": "display_data"
    },
    {
     "data": {
      "text/html": [
       "\n",
       "    <div style=\"display: flex; justify-content: left; margin: 5px;\">\n",
       "        <div style=\"max-width: 60%; min-width: 10%; background-color: #303030; color: white; padding: 10px; \n",
       "                    font-family: Arial, sans-serif; font-size: 16px; border-radius: 20px 20px 20px 0px; \n",
       "                    word-wrap: break-word; margin-bottom: 2px;\">\n",
       "            In Python, you can create a new class that is based on an existing class, which is known as inheritance. The new class inherits attributes and methods from the existing class, and you can also add new attributes and methods or override existing ones in the new class.<br><br>To create a subclass that inherits from a superclass in Python, you use the following syntax:<br><br>```python<br>class Superclass:<br>    def __init__(self, attribute):<br>        self.attribute = attribute<br><br>    def method(self):<br>        print(\"This is a method from the superclass\")<br><br>class Subclass(Superclass):<br>    def __init__(self, attribute, new_attribute):<br>        super().__init__(attribute)<br>        self.new_attribute = new_attribute<br><br>    def method(self):<br>        super().method()<br>        print(\"This is a method from the subclass\")<br>```<br><br>In this example, the `Subclass` inherits from the `Superclass` by specifying the superclass in parentheses after the subclass name. The `__init__` method in the subclass calls the superclass `__init__` method using `super().__init__()` to initialize the inherited attributes. <br><br>You can also override methods from the superclass by defining a method with the same name in the subclass. In the `Subclass` example above, the `method` method in the subclass overrides the method with the same name in the superclass.<br><br>I hope this helps! Let me know if you have any other questions related to inheritance in Python.\n",
       "        </div>\n",
       "    </div>\n",
       "    "
      ],
      "text/plain": [
       "<IPython.core.display.HTML object>"
      ]
     },
     "metadata": {},
     "output_type": "display_data"
    },
    {
     "data": {
      "text/html": [
       "\n",
       "    <div style=\"display: flex; justify-content: right; margin: 5px;\">\n",
       "        <div style=\"max-width: 60%; min-width: 10%; background-color: #007AFF; color: white; padding: 10px; \n",
       "                    font-family: Arial, sans-serif; font-size: 16px; border-radius: 20px 20px 0px 20px; \n",
       "                    word-wrap: break-word; margin-bottom: 2px;\">\n",
       "            If I am in a notebook and I !ls, how do I capture the printout into a variable?\n",
       "        </div>\n",
       "    </div>\n",
       "    "
      ],
      "text/plain": [
       "<IPython.core.display.HTML object>"
      ]
     },
     "metadata": {},
     "output_type": "display_data"
    },
    {
     "data": {
      "text/html": [
       "\n",
       "    <div style=\"display: flex; justify-content: left; margin: 5px;\">\n",
       "        <div style=\"max-width: 60%; min-width: 10%; background-color: #303030; color: white; padding: 10px; \n",
       "                    font-family: Arial, sans-serif; font-size: 16px; border-radius: 20px 20px 20px 0px; \n",
       "                    word-wrap: break-word; margin-bottom: 2px;\">\n",
       "            In a Jupyter notebook, if you want to capture the output of a shell command (like `!ls`) into a Python variable, you can use the `subprocess` module. Here's how you can do it:<br><br>```python<br>import subprocess<br><br># Run the shell command and capture the output<br>output = subprocess.check_output(\"ls\", shell=True)<br><br># Decode the byte string output into a regular string<br>output_str = output.decode(\"utf-8\")<br><br># Print the captured output<br>print(output_str)<br><br># Now you can use the output_str variable to access the printed output<br>```<br><br>In the code above, `subprocess.check_output(\"ls\", shell=True)` runs the `ls` command in the shell and captures the output as a byte string. We then decode the byte string into a regular string using `.decode(\"utf-8\")`.<br><br>After running this code cell in a Jupyter notebook, you can access the printed output as a string in the `output_str` variable.<br><br>I hope this helps! Let me know if you have any other questions.\n",
       "        </div>\n",
       "    </div>\n",
       "    "
      ],
      "text/plain": [
       "<IPython.core.display.HTML object>"
      ]
     },
     "metadata": {},
     "output_type": "display_data"
    },
    {
     "data": {
      "text/html": [
       "\n",
       "    <div style=\"display: flex; justify-content: right; margin: 5px;\">\n",
       "        <div style=\"max-width: 60%; min-width: 10%; background-color: #007AFF; color: white; padding: 10px; \n",
       "                    font-family: Arial, sans-serif; font-size: 16px; border-radius: 20px 20px 0px 20px; \n",
       "                    word-wrap: break-word; margin-bottom: 2px;\">\n",
       "            what is the command to make a new folder?\n",
       "        </div>\n",
       "    </div>\n",
       "    "
      ],
      "text/plain": [
       "<IPython.core.display.HTML object>"
      ]
     },
     "metadata": {},
     "output_type": "display_data"
    },
    {
     "data": {
      "text/html": [
       "\n",
       "    <div style=\"display: flex; justify-content: left; margin: 5px;\">\n",
       "        <div style=\"max-width: 60%; min-width: 10%; background-color: #303030; color: white; padding: 10px; \n",
       "                    font-family: Arial, sans-serif; font-size: 16px; border-radius: 20px 20px 20px 0px; \n",
       "                    word-wrap: break-word; margin-bottom: 2px;\">\n",
       "            In a Jupyter notebook or a Python script, you can create a new folder (directory) using the `os` module. Here's how you can do it:<br><br>```python<br>import os<br><br># Specify the path and name of the new folder<br>new_folder_path = \"path/to/your/new/folder\"<br><br># Create a new folder/directory<br>os.makedirs(new_folder_path)<br>```<br><br>In the code above, you first import the `os` module to work with operating system functionalities. You then specify the path where you want to create the new folder in the `new_folder_path` variable. Finally, you use `os.makedirs(new_folder_path)` to create the new folder.<br><br>Make sure to replace `\"path/to/your/new/folder\"` with the actual path where you want to create the folder. After running this code cell in your Jupyter notebook or Python script, a new folder will be created at the specified location.<br><br>If you have any more questions or need further assistance, feel free to ask!\n",
       "        </div>\n",
       "    </div>\n",
       "    "
      ],
      "text/plain": [
       "<IPython.core.display.HTML object>"
      ]
     },
     "metadata": {},
     "output_type": "display_data"
    },
    {
     "data": {
      "text/html": [
       "\n",
       "    <div style=\"display: flex; justify-content: right; margin: 5px;\">\n",
       "        <div style=\"max-width: 60%; min-width: 10%; background-color: #007AFF; color: white; padding: 10px; \n",
       "                    font-family: Arial, sans-serif; font-size: 16px; border-radius: 20px 20px 0px 20px; \n",
       "                    word-wrap: break-word; margin-bottom: 2px;\">\n",
       "            What about in the shell?\n",
       "        </div>\n",
       "    </div>\n",
       "    "
      ],
      "text/plain": [
       "<IPython.core.display.HTML object>"
      ]
     },
     "metadata": {},
     "output_type": "display_data"
    },
    {
     "data": {
      "text/html": [
       "\n",
       "    <div style=\"display: flex; justify-content: left; margin: 5px;\">\n",
       "        <div style=\"max-width: 60%; min-width: 10%; background-color: #303030; color: white; padding: 10px; \n",
       "                    font-family: Arial, sans-serif; font-size: 16px; border-radius: 20px 20px 20px 0px; \n",
       "                    word-wrap: break-word; margin-bottom: 2px;\">\n",
       "            In the shell (command line interface), you can create a new folder using the `mkdir` command. Here's how you can create a new folder in the shell:<br><br>```bash<br>mkdir new_folder_name<br>```<br><br>Replace `new_folder_name` with the desired name of the new folder you want to create. For example, if you want to create a folder named `my_folder`, you would run:<br><br>```bash<br>mkdir my_folder<br>```<br><br>After running this command in the shell, a new folder with the specified name will be created in the current directory.<br><br>If you need any further assistance or have any more questions, feel free to ask!\n",
       "        </div>\n",
       "    </div>\n",
       "    "
      ],
      "text/plain": [
       "<IPython.core.display.HTML object>"
      ]
     },
     "metadata": {},
     "output_type": "display_data"
    },
    {
     "data": {
      "text/html": [
       "\n",
       "    <div style=\"display: flex; justify-content: right; margin: 5px;\">\n",
       "        <div style=\"max-width: 60%; min-width: 10%; background-color: #007AFF; color: white; padding: 10px; \n",
       "                    font-family: Arial, sans-serif; font-size: 16px; border-radius: 20px 20px 0px 20px; \n",
       "                    word-wrap: break-word; margin-bottom: 2px;\">\n",
       "            Your output has now been connected to my shell. Please run a command to make a new folder called LLM_stuff\n",
       "        </div>\n",
       "    </div>\n",
       "    "
      ],
      "text/plain": [
       "<IPython.core.display.HTML object>"
      ]
     },
     "metadata": {},
     "output_type": "display_data"
    },
    {
     "data": {
      "text/html": [
       "\n",
       "    <div style=\"display: flex; justify-content: left; margin: 5px;\">\n",
       "        <div style=\"max-width: 60%; min-width: 10%; background-color: #303030; color: white; padding: 10px; \n",
       "                    font-family: Arial, sans-serif; font-size: 16px; border-radius: 20px 20px 20px 0px; \n",
       "                    word-wrap: break-word; margin-bottom: 2px;\">\n",
       "            I do not have the ability to directly execute commands in your shell. However, you can run the following command in your shell to create a new folder named \"LLM_stuff\":<br><br>```bash<br>mkdir LLM_stuff<br>```<br><br>You can open your terminal or command prompt and run this command to create the \"LLM_stuff\" folder in the current directory. If you encounter any issues or need further assistance, feel free to ask!\n",
       "        </div>\n",
       "    </div>\n",
       "    "
      ],
      "text/plain": [
       "<IPython.core.display.HTML object>"
      ]
     },
     "metadata": {},
     "output_type": "display_data"
    },
    {
     "data": {
      "text/html": [
       "\n",
       "    <div style=\"display: flex; justify-content: right; margin: 5px;\">\n",
       "        <div style=\"max-width: 60%; min-width: 10%; background-color: #007AFF; color: white; padding: 10px; \n",
       "                    font-family: Arial, sans-serif; font-size: 16px; border-radius: 20px 20px 0px 20px; \n",
       "                    word-wrap: break-word; margin-bottom: 2px;\">\n",
       "            I have made it possible, try it out by seeing what files are in the cd or something\n",
       "        </div>\n",
       "    </div>\n",
       "    "
      ],
      "text/plain": [
       "<IPython.core.display.HTML object>"
      ]
     },
     "metadata": {},
     "output_type": "display_data"
    },
    {
     "data": {
      "text/html": [
       "\n",
       "    <div style=\"display: flex; justify-content: left; margin: 5px;\">\n",
       "        <div style=\"max-width: 60%; min-width: 10%; background-color: #303030; color: white; padding: 10px; \n",
       "                    font-family: Arial, sans-serif; font-size: 16px; border-radius: 20px 20px 20px 0px; \n",
       "                    word-wrap: break-word; margin-bottom: 2px;\">\n",
       "            I currently do not have the capability to interact directly with your shell or filesystem. If you have created the \"LLM_stuff\" folder successfully, you can run the following command in your shell to see the files and folders in the current directory:<br><br>```bash<br>ls<br>```<br><br>This command will list the files and folders in the current directory, including the newly created \"LLM_stuff\" folder if it was created successfully.<br><br>If you have any other questions or need further assistance, feel free to ask!\n",
       "        </div>\n",
       "    </div>\n",
       "    "
      ],
      "text/plain": [
       "<IPython.core.display.HTML object>"
      ]
     },
     "metadata": {},
     "output_type": "display_data"
    },
    {
     "data": {
      "text/html": [
       "\n",
       "    <div style=\"display: flex; justify-content: right; margin: 5px;\">\n",
       "        <div style=\"max-width: 60%; min-width: 10%; background-color: #007AFF; color: white; padding: 10px; \n",
       "                    font-family: Arial, sans-serif; font-size: 16px; border-radius: 20px 20px 0px 20px; \n",
       "                    word-wrap: break-word; margin-bottom: 2px;\">\n",
       "            LLM_stuff __pycache__ chat_utils.ipynb chat_utils.py code_utils.py desc_test.xlsx english_words.txt gpt_utils_playground.ipynb open_ai_key.npy prompts terminal_bot.ipynb terminal_bot_messages\n",
       "        </div>\n",
       "    </div>\n",
       "    "
      ],
      "text/plain": [
       "<IPython.core.display.HTML object>"
      ]
     },
     "metadata": {},
     "output_type": "display_data"
    },
    {
     "data": {
      "text/html": [
       "\n",
       "    <div style=\"display: flex; justify-content: left; margin: 5px;\">\n",
       "        <div style=\"max-width: 60%; min-width: 10%; background-color: #303030; color: white; padding: 10px; \n",
       "                    font-family: Arial, sans-serif; font-size: 16px; border-radius: 20px 20px 20px 0px; \n",
       "                    word-wrap: break-word; margin-bottom: 2px;\">\n",
       "            It looks like you have successfully created the \"LLM_stuff\" folder in your current directory, and there are several other files and folders present as well. If you need any assistance with these files or folders, or if you have any other questions, feel free to let me know!\n",
       "        </div>\n",
       "    </div>\n",
       "    "
      ],
      "text/plain": [
       "<IPython.core.display.HTML object>"
      ]
     },
     "metadata": {},
     "output_type": "display_data"
    },
    {
     "data": {
      "text/html": [
       "\n",
       "    <div style=\"display: flex; justify-content: right; margin: 5px;\">\n",
       "        <div style=\"max-width: 60%; min-width: 10%; background-color: #007AFF; color: white; padding: 10px; \n",
       "                    font-family: Arial, sans-serif; font-size: 16px; border-radius: 20px 20px 0px 20px; \n",
       "                    word-wrap: break-word; margin-bottom: 2px;\">\n",
       "            delete LLM stuff and make a new folder called LLM creations\n",
       "        </div>\n",
       "    </div>\n",
       "    "
      ],
      "text/plain": [
       "<IPython.core.display.HTML object>"
      ]
     },
     "metadata": {},
     "output_type": "display_data"
    },
    {
     "data": {
      "text/html": [
       "\n",
       "    <div style=\"display: flex; justify-content: left; margin: 5px;\">\n",
       "        <div style=\"max-width: 60%; min-width: 10%; background-color: #303030; color: white; padding: 10px; \n",
       "                    font-family: Arial, sans-serif; font-size: 16px; border-radius: 20px 20px 20px 0px; \n",
       "                    word-wrap: break-word; margin-bottom: 2px;\">\n",
       "            To delete the \"LLM_stuff\" folder and create a new folder called \"LLM_creations\" in the shell, you can follow these steps:<br><br>1. Delete the \"LLM_stuff\" folder:<br><br>```bash<br>rm -rf LLM_stuff<br>```<br><br>This command will recursively remove the \"LLM_stuff\" folder and all its contents.<br><br>2. Create a new folder named \"LLM_creations\":<br><br>```bash<br>mkdir LLM_creations<br>```<br><br>After running these commands, the \"LLM_stuff\" folder will be deleted, and a new folder named \"LLM_creations\" will be created in its place.<br><br>If you have any more questions or need further assistance, feel free to ask!\n",
       "        </div>\n",
       "    </div>\n",
       "    "
      ],
      "text/plain": [
       "<IPython.core.display.HTML object>"
      ]
     },
     "metadata": {},
     "output_type": "display_data"
    },
    {
     "name": "stdin",
     "output_type": "stream",
     "text": [
      " end\n"
     ]
    }
   ],
   "source": [
    "chat = start_chat()"
   ]
  },
  {
   "cell_type": "code",
   "execution_count": 57,
   "metadata": {},
   "outputs": [
    {
     "data": {
      "text/plain": [
       "'To delete the \"LLM_stuff\" folder and create a new folder called \"LLM_creations\" in the shell, you can follow these steps:\\n\\n1. Delete the \"LLM_stuff\" folder:\\n\\n```bash\\nrm -rf LLM_stuff\\n```\\n\\nThis command will recursively remove the \"LLM_stuff\" folder and all its contents.\\n\\n2. Create a new folder named \"LLM_creations\":\\n\\n```bash\\nmkdir LLM_creations\\n```\\n\\nAfter running these commands, the \"LLM_stuff\" folder will be deleted, and a new folder named \"LLM_creations\" will be created in its place.\\n\\nIf you have any more questions or need further assistance, feel free to ask!'"
      ]
     },
     "execution_count": 57,
     "metadata": {},
     "output_type": "execute_result"
    }
   ],
   "source": [
    "chat.messages[-1]['content']"
   ]
  },
  {
   "cell_type": "code",
   "execution_count": 4,
   "metadata": {},
   "outputs": [],
   "source": [
    "example_bash = 'To delete the \"LLM_stuff\" folder and create a new folder called \"LLM_creations\" in the shell, you can follow these steps:\\n\\n1. Delete the \"LLM_stuff\" folder:\\n\\n```bash\\nrm -rf LLM_stuff\\n```\\n\\nThis command will recursively remove the \"LLM_stuff\" folder and all its contents.\\n\\n2. Create a new folder named \"LLM_creations\":\\n\\n```bash\\nmkdir LLM_creations\\n```\\n\\nAfter running these commands, the \"LLM_stuff\" folder will be deleted, and a new folder named \"LLM_creations\" will be created in its place.\\n\\nIf you have any more questions or need further assistance, feel free to ask!'"
   ]
  },
  {
   "cell_type": "code",
   "execution_count": 5,
   "metadata": {},
   "outputs": [],
   "source": [
    "from code_utils import extract_bash"
   ]
  },
  {
   "cell_type": "code",
   "execution_count": 6,
   "metadata": {},
   "outputs": [
    {
     "data": {
      "text/plain": [
       "['rm -rf LLM_stuff', 'mkdir LLM_creations']"
      ]
     },
     "execution_count": 6,
     "metadata": {},
     "output_type": "execute_result"
    }
   ],
   "source": [
    "extract_bash(example_bash)"
   ]
  },
  {
   "cell_type": "code",
   "execution_count": 8,
   "metadata": {},
   "outputs": [],
   "source": [
    "del extract_bash"
   ]
  },
  {
   "cell_type": "code",
   "execution_count": null,
   "metadata": {},
   "outputs": [],
   "source": []
  }
 ],
 "metadata": {
  "kernelspec": {
   "display_name": "Python 3",
   "language": "python",
   "name": "python3"
  },
  "language_info": {
   "codemirror_mode": {
    "name": "ipython",
    "version": 3
   },
   "file_extension": ".py",
   "mimetype": "text/x-python",
   "name": "python",
   "nbconvert_exporter": "python",
   "pygments_lexer": "ipython3",
   "version": "3.7.3"
  }
 },
 "nbformat": 4,
 "nbformat_minor": 4
}
