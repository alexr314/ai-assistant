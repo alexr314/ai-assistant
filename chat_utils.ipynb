{
 "cells": [
  {
   "cell_type": "code",
   "execution_count": 2,
   "metadata": {},
   "outputs": [],
   "source": [
    "import openai\n",
    "import numpy as np\n",
    "\n",
    "openai.api_key = str(np.load('open_ai_key.npy'))"
   ]
  },
  {
   "cell_type": "code",
   "execution_count": 29,
   "metadata": {},
   "outputs": [],
   "source": [
    "from IPython.display import HTML, display, clear_output\n",
    "\n",
    "def display_imessage(message, sender=\"user\"):\n",
    "    \"\"\"Display a message in a styled box resembling iMessage. Sender can be 'user' or 'system'.\"\"\"\n",
    "    \n",
    "    message = message.replace(\"\\n\", \"<br>\")\n",
    "    \n",
    "    if sender == \"user\":\n",
    "        # User message styling: Blue bubble, right-aligned\n",
    "        bg_color = \"#007AFF\"  # iMessage blue\n",
    "        text_color = \"white\"\n",
    "        align = \"right\"\n",
    "        border_radius = \"20px 20px 0px 20px\"\n",
    "    elif sender == \"system\":\n",
    "        # System message styling: Gray bubble, center-aligned\n",
    "        message = \"SYSTEM: \" + message\n",
    "        bg_color = \"#E5E5EA\"  # Light gray\n",
    "        text_color = \"black\"\n",
    "        align = \"center\"\n",
    "        border_radius = \"20px 20px 20px 20px\"\n",
    "    elif sender == \"assistant\":\n",
    "        # System message styling: Gray bubble, left-aligned\n",
    "        bg_color = \"#303030\" # #  \"#E5E5EA\"  # Light gray\n",
    "        text_color = \"white\"\n",
    "        align = \"left\"\n",
    "        border_radius = \"20px 20px 20px 0px\"\n",
    "    \n",
    "    html = f\"\"\"\n",
    "    <div style=\"display: flex; justify-content: {align}; margin: 5px;\">\n",
    "        <div style=\"max-width: 60%; min-width: 10%; background-color: {bg_color}; color: {text_color}; padding: 10px; \n",
    "                    font-family: Arial, sans-serif; font-size: 16px; border-radius: {border_radius}; \n",
    "                    word-wrap: break-word; margin-bottom: 2px;\">\n",
    "            {message}\n",
    "        </div>\n",
    "    </div>\n",
    "    \"\"\"\n",
    "    display(HTML(html))\n",
    "\n",
    "# # Example usage\n",
    "# display_imessage(\"Sure, I can help with that. What do you need?\", sender=\"system\")\n",
    "# display_imessage(\"Could you tell me more about the Pythagorean theorem?\", sender=\"user\")\n",
    "\n",
    "\n",
    "def display_messages(messages):\n",
    "    \"\"\"\n",
    "    Display a series of messages in a styled format resembling iMessage.\n",
    "    Each message in the list is a dictionary with 'role' and 'content' keys.\n",
    "    \n",
    "    :param messages: List of message dictionaries.\n",
    "    \"\"\"\n",
    "    for message in messages:\n",
    "#         sender = \"user\" if message['role'] == \"user\" else \"system\"\n",
    "        display_imessage(message['content'], sender=message['role'])"
   ]
  },
  {
   "cell_type": "code",
   "execution_count": 51,
   "metadata": {},
   "outputs": [],
   "source": [
    "def make_message(role, content):\n",
    "    return {'role' : role, 'content' : content}\n",
    "\n",
    "class Session:\n",
    "    def __init__(self, model='gpt-3.5-turbo-0125', system_message='You are a helpful assistant'):\n",
    "        self.model = model\n",
    "        self.messages = [make_message('system', system_message)]\n",
    "        \n",
    "        self.fail_counter = 0\n",
    "        self.max_fails = 3\n",
    "        self.verbose = True\n",
    "        \n",
    "    def add_system_message(self, content):\n",
    "        self.messages.append(make_message('system', content))\n",
    "\n",
    "    def add_user_message(self, content):\n",
    "        self.messages.append(make_message('user', content))\n",
    "\n",
    "    def generate_response(self):\n",
    "        \n",
    "        if self.fail_counter < self.max_fails:\n",
    "            \n",
    "            try:\n",
    "                response = self._query_api()\n",
    "                print()\n",
    "                self.messages.append(dict(response['choices'][0].message))\n",
    "            except:\n",
    "                self.fail_counter += 1\n",
    "                # try again\n",
    "                if self.verbose: \n",
    "                    print(f'Query failed, retrying (#{self.fail_counter})')\n",
    "                self.generate_response()\n",
    "            \n",
    "    def _query_api(self):\n",
    "        # Broken off into its own function, will likely need maintance when we update openai\n",
    "        return openai.ChatCompletion.create(model=self.model, messages=self.messages)\n",
    "    \n",
    "    def display_messages(self):\n",
    "        display_messages(self.messages)\n",
    "\n",
    "\n",
    "def start_chat(system_prompt='You are a helpful assistant', model='gpt-3.5-turbo-0125'):\n",
    "    \n",
    "    # instantiate session\n",
    "    chat = Session(system_message=system_prompt, model=model)\n",
    "    \n",
    "    while True:\n",
    "        # get input\n",
    "        user_message = input()\n",
    "        if user_message.lower()=='end': break\n",
    "            \n",
    "        # redraw with user message\n",
    "        clear_output(wait=True)\n",
    "        chat.add_user_message(user_message)\n",
    "        chat.display_messages()\n",
    "        \n",
    "        # redraw upon receipt of assistant message\n",
    "        chat.generate_response()\n",
    "        clear_output(wait=True)\n",
    "        chat.display_messages()\n",
    "\n",
    "    return chat"
   ]
  },
  {
   "cell_type": "code",
   "execution_count": null,
   "metadata": {},
   "outputs": [
    {
     "data": {
      "text/html": [
       "\n",
       "    <div style=\"display: flex; justify-content: center; margin: 5px;\">\n",
       "        <div style=\"max-width: 60%; min-width: 10%; background-color: #E5E5EA; color: black; padding: 10px; \n",
       "                    font-family: Arial, sans-serif; font-size: 16px; border-radius: 20px 20px 20px 20px; \n",
       "                    word-wrap: break-word; margin-bottom: 2px;\">\n",
       "            SYSTEM: You are a helpful assistant\n",
       "        </div>\n",
       "    </div>\n",
       "    "
      ],
      "text/plain": [
       "<IPython.core.display.HTML object>"
      ]
     },
     "metadata": {},
     "output_type": "display_data"
    },
    {
     "data": {
      "text/html": [
       "\n",
       "    <div style=\"display: flex; justify-content: right; margin: 5px;\">\n",
       "        <div style=\"max-width: 60%; min-width: 10%; background-color: #007AFF; color: white; padding: 10px; \n",
       "                    font-family: Arial, sans-serif; font-size: 16px; border-radius: 20px 20px 0px 20px; \n",
       "                    word-wrap: break-word; margin-bottom: 2px;\">\n",
       "            Hello\n",
       "        </div>\n",
       "    </div>\n",
       "    "
      ],
      "text/plain": [
       "<IPython.core.display.HTML object>"
      ]
     },
     "metadata": {},
     "output_type": "display_data"
    },
    {
     "data": {
      "text/html": [
       "\n",
       "    <div style=\"display: flex; justify-content: left; margin: 5px;\">\n",
       "        <div style=\"max-width: 60%; min-width: 10%; background-color: #303030; color: white; padding: 10px; \n",
       "                    font-family: Arial, sans-serif; font-size: 16px; border-radius: 20px 20px 20px 0px; \n",
       "                    word-wrap: break-word; margin-bottom: 2px;\">\n",
       "            Hello! How can I assist you today?\n",
       "        </div>\n",
       "    </div>\n",
       "    "
      ],
      "text/plain": [
       "<IPython.core.display.HTML object>"
      ]
     },
     "metadata": {},
     "output_type": "display_data"
    }
   ],
   "source": [
    "chat = start_chat()"
   ]
  },
  {
   "cell_type": "code",
   "execution_count": 45,
   "metadata": {},
   "outputs": [
    {
     "data": {
      "text/plain": [
       "[{'role': 'system', 'content': 'You are a helpful assistant'},\n",
       " {'role': 'user', 'content': 'testing'}]"
      ]
     },
     "execution_count": 45,
     "metadata": {},
     "output_type": "execute_result"
    }
   ],
   "source": [
    "chat.messages"
   ]
  },
  {
   "cell_type": "code",
   "execution_count": null,
   "metadata": {},
   "outputs": [],
   "source": []
  }
 ],
 "metadata": {
  "kernelspec": {
   "display_name": "Python 3",
   "language": "python",
   "name": "python3"
  },
  "language_info": {
   "codemirror_mode": {
    "name": "ipython",
    "version": 3
   },
   "file_extension": ".py",
   "mimetype": "text/x-python",
   "name": "python",
   "nbconvert_exporter": "python",
   "pygments_lexer": "ipython3",
   "version": "3.7.3"
  }
 },
 "nbformat": 4,
 "nbformat_minor": 4
}
